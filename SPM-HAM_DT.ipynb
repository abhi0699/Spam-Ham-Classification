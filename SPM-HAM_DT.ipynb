{
 "cells": [
  {
   "cell_type": "code",
   "execution_count": 35,
   "metadata": {},
   "outputs": [],
   "source": [
    "import numpy as np\n",
    "import pandas as pd\n",
    "import os\n",
    "from sklearn.tree import DecisionTreeClassifier"
   ]
  },
  {
   "cell_type": "code",
   "execution_count": 36,
   "metadata": {},
   "outputs": [],
   "source": [
    "Df = []"
   ]
  },
  {
   "cell_type": "code",
   "execution_count": 37,
   "metadata": {},
   "outputs": [],
   "source": [
    "# Reading the files\n",
    "import os\n",
    "base_path = \"D:/Abhishek/CSE/bare/\"\n",
    "all_file = os.listdir(base_path)\n",
    "for parts in all_file:\n",
    "    files = base_path + parts\n",
    "    all_txt = os.listdir(files)\n",
    "    \n",
    "    for txt in all_txt:\n",
    "        txt_dir = files + \"/\" + txt\n",
    "        with open(txt_dir, 'r') as txt_file:\n",
    "            j = txt_file.read()\n",
    "            Df.append(j)"
   ]
  },
  {
   "cell_type": "code",
   "execution_count": 38,
   "metadata": {},
   "outputs": [
    {
     "name": "stdout",
     "output_type": "stream",
     "text": [
      "Subject: re : 2 . 882 s - > np np\n",
      "\n",
      "> date : sun , 15 dec 91 02 : 25 : 02 est > from : michael < mmorse @ vm1 . yorku . ca > > subject : re : 2 . 864 queries > > wlodek zadrozny asks if there is \" anything interesting \" to be said > about the construction \" s > np np \" . . . second , > and very much related : might we consider the construction to be a form > of what has been discussed on this list of late as reduplication ? the > logical sense of \" john mcnamara the name \" is tautologous and thus , at > that level , indistinguishable from \" well , well now , what have we here ? \" . to say that ' john mcnamara the name ' is tautologous is to give support to those who say that a logic-based semantics is irrelevant to natural language . in what sense is it tautologous ? it supplies the value of an attribute followed by the attribute of which it is the value . if in fact the value of the name-attribute for the relevant entity were ' chaim shmendrik ' , ' john mcnamara the name ' would be false . no tautology , this . ( and no reduplication , either . )\n",
      "\n"
     ]
    }
   ],
   "source": [
    "print(Df[0])"
   ]
  },
  {
   "cell_type": "code",
   "execution_count": 39,
   "metadata": {},
   "outputs": [],
   "source": [
    "new = \" \"\n",
    "for x in Df:\n",
    "    new+=x"
   ]
  },
  {
   "cell_type": "code",
   "execution_count": 40,
   "metadata": {},
   "outputs": [],
   "source": [
    "new = new.split()"
   ]
  },
  {
   "cell_type": "code",
   "execution_count": 41,
   "metadata": {},
   "outputs": [
    {
     "name": "stdout",
     "output_type": "stream",
     "text": [
      "['Subject:', 're', ':', '2', '.', '882', 's', '-', '>', 'np']\n"
     ]
    }
   ],
   "source": [
    "print(new[:10])"
   ]
  },
  {
   "cell_type": "code",
   "execution_count": 42,
   "metadata": {},
   "outputs": [],
   "source": [
    "new = set(new)"
   ]
  },
  {
   "cell_type": "code",
   "execution_count": 43,
   "metadata": {},
   "outputs": [],
   "source": [
    "new = list(new)"
   ]
  },
  {
   "cell_type": "code",
   "execution_count": 44,
   "metadata": {},
   "outputs": [
    {
     "name": "stdout",
     "output_type": "stream",
     "text": [
      "['cues', 'cartesian', 'protooceanic', 'stregthen', 'txt', 'hu', 'gerasimova', 'bisfai', 'zoo', 'predators', 'verkehrsb', 'bozidar', 'sugayama', 'martinet', 'encyclopedique', 'civ', 'testbeds', 'philosophy', 'uab', '1977b']\n"
     ]
    }
   ],
   "source": [
    "print(new[:20])"
   ]
  },
  {
   "cell_type": "code",
   "execution_count": 45,
   "metadata": {},
   "outputs": [
    {
     "data": {
      "text/plain": [
       "65724"
      ]
     },
     "execution_count": 45,
     "metadata": {},
     "output_type": "execute_result"
    }
   ],
   "source": [
    "len(new)"
   ]
  },
  {
   "cell_type": "code",
   "execution_count": 46,
   "metadata": {},
   "outputs": [],
   "source": [
    "data = [0]*len(new)"
   ]
  },
  {
   "cell_type": "code",
   "execution_count": 47,
   "metadata": {},
   "outputs": [],
   "source": [
    "Df2 = pd.DataFrame([data], columns = new )"
   ]
  },
  {
   "cell_type": "code",
   "execution_count": 48,
   "metadata": {},
   "outputs": [],
   "source": [
    "Df2['spam/ham']=[0]"
   ]
  },
  {
   "cell_type": "code",
   "execution_count": 49,
   "metadata": {},
   "outputs": [],
   "source": [
    "data = Df2"
   ]
  },
  {
   "cell_type": "code",
   "execution_count": 50,
   "metadata": {},
   "outputs": [],
   "source": [
    "def insert_empty(data,position):\n",
    "    data.loc[position]=[0]*65725\n",
    "    return"
   ]
  },
  {
   "cell_type": "code",
   "execution_count": null,
   "metadata": {},
   "outputs": [],
   "source": [
    "import os\n",
    "spm = 0\n",
    "ham = 0\n",
    "total = 0\n",
    "curr_row=0\n",
    "base_path = \"D:/Abhishek/CSE/bare/\"\n",
    "all_file = os.listdir(base_path)\n",
    "for parts in all_file:\n",
    "    files = base_path + parts\n",
    "    all_txt = os.listdir(files)\n",
    "    \n",
    "    for txt in all_txt:\n",
    "        txt_dir = files + \"/\" + txt\n",
    "        total+=1\n",
    "        with open(txt_dir, 'r') as txt_file:\n",
    "            mail = txt_file.read()\n",
    "            mail = str(mail)\n",
    "            mail_text = mail.split()\n",
    "            for word in mail_text:\n",
    "                data.loc[curr_row][word] += 1\n",
    "            \n",
    "            if txt_dir[-12:-9] == 'spm':\n",
    "                data.loc[curr_row]['spam/ham']= 1\n",
    "            else:\n",
    "                data.loc[curr_row]['spam/ham']= 0\n",
    "            curr_row+=1\n",
    "            insert_empty(data,curr_row)\n",
    "            "
   ]
  },
  {
   "cell_type": "code",
   "execution_count": null,
   "metadata": {},
   "outputs": [],
   "source": [
    "data['is'].unique()"
   ]
  },
  {
   "cell_type": "code",
   "execution_count": null,
   "metadata": {},
   "outputs": [],
   "source": [
    "model = DecisionTreeClassifier(random_state=3)"
   ]
  },
  {
   "cell_type": "code",
   "execution_count": null,
   "metadata": {},
   "outputs": [],
   "source": [
    "data['is']"
   ]
  },
  {
   "cell_type": "code",
   "execution_count": null,
   "metadata": {
    "scrolled": true
   },
   "outputs": [],
   "source": [
    "data"
   ]
  },
  {
   "cell_type": "code",
   "execution_count": null,
   "metadata": {
    "scrolled": true
   },
   "outputs": [],
   "source": [
    "part_len = int(data.shape[0]/10)\n",
    "mean_test_acc =0\n",
    "for i in range(1,11):\n",
    "    train_df = data[:(i-1)*part_len]+data[(i+1)*part_len:]\n",
    "    test_df = data[(i-1)*part_len+1:(i+1)*part_len]  \n",
    "    X_train = train_df.drop(columns=['spam/ham'])\n",
    "    Y_train = train_df['spam/ham']\n",
    "    X_test = test_df.drop(columns=['spam/ham'])\n",
    "    Y_test = test_df['spam/ham']\n",
    "    X_train.fillna(0,inplace=True)\n",
    "    Y_train.fillna(0,inplace=True)\n",
    "    X_test.fillna(0,inplace=True)\n",
    "    Y_test.fillna(0,inplace=True)\n",
    "    model.fit(X_train,Y_train)\n",
    "    train_acc = model.score(X_train,Y_train)\n",
    "    test_acc = model.score(X_test,Y_test)\n",
    "    mean_test_acc+= test_acc\n",
    "    print('Test accuracy when using part ',i,' as test set is ' ,test_acc)\n",
    "    #print('Train accuracy is ', train_acc)\n",
    "print('***************************')\n",
    "print('Mean test accuracy is ',mean_test_acc/10)\n",
    "print('***************************')"
   ]
  },
  {
   "cell_type": "code",
   "execution_count": null,
   "metadata": {},
   "outputs": [],
   "source": []
  }
 ],
 "metadata": {
  "kernelspec": {
   "display_name": "Python 3",
   "language": "python",
   "name": "python3"
  },
  "language_info": {
   "codemirror_mode": {
    "name": "ipython",
    "version": 3
   },
   "file_extension": ".py",
   "mimetype": "text/x-python",
   "name": "python",
   "nbconvert_exporter": "python",
   "pygments_lexer": "ipython3",
   "version": "3.7.3"
  }
 },
 "nbformat": 4,
 "nbformat_minor": 2
}
