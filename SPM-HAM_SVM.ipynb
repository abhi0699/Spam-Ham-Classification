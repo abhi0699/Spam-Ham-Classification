{
 "cells": [
  {
   "cell_type": "code",
   "execution_count": 16,
   "metadata": {},
   "outputs": [],
   "source": [
    "import os\n",
    "import numpy as np\n",
    "from collections import Counter\n",
    "from sklearn import svm\n",
    "from sklearn.metrics import accuracy_score,precision_score,recall_score,f1_score"
   ]
  },
  {
   "cell_type": "code",
   "execution_count": 17,
   "metadata": {},
   "outputs": [],
   "source": [
    "def make_Dictionary(root_dir,test_part_num):\n",
    "    all_words = []\n",
    "    for part in os.listdir(root_dir):\n",
    "        if int(part[4:]) in test_part_num:\n",
    "            continue\n",
    "        part_path=os.path.join(root_dir,part)\n",
    "        emails = [os.path.join(part_path,f) for f in os.listdir(part_path)]\n",
    "        for mail in emails:\n",
    "            with open(mail) as m:\n",
    "                for line in m:\n",
    "                    words = line.split()\n",
    "                    all_words += words\n",
    "    dictionary = Counter(all_words)\n",
    "#     list_to_remove = list(dictionary)\n",
    "#     for item in list_to_remove:\n",
    "#         if item.isalpha() == False:\n",
    "#             del dictionary[item]\n",
    "#         elif len(item) == 1:\n",
    "#             del dictionary[item]\n",
    "    dictionary = dictionary.most_common(10000)\n",
    "    return dictionary"
   ]
  },
  {
   "cell_type": "code",
   "execution_count": 18,
   "metadata": {},
   "outputs": [],
   "source": [
    "def extract_features(root_dir,test_part_num):\n",
    "    for part in os.listdir(root_dir):\n",
    "        if int(part[4:]) in test_part_num:\n",
    "            continue\n",
    "        part_path=os.path.join(root_dir,part)\n",
    "        files = [os.path.join(part_path,fi) for fi in os.listdir(part_path)]\n",
    "    features_matrix = np.zeros((len(files),10000))\n",
    "    train_labels = np.zeros(len(files))\n",
    "    count = 0;\n",
    "    docID = 0;\n",
    "    for fil in files:\n",
    "      with open(fil) as fi:\n",
    "        for i,line in enumerate(fi):\n",
    "          if i == 2:\n",
    "            words = line.split()\n",
    "            for word in words:\n",
    "              wordID = 0\n",
    "              for i,d in enumerate(dictionary):\n",
    "                if d[0] == word:\n",
    "                  wordID = i\n",
    "                  features_matrix[docID,wordID] = words.count(word)\n",
    "        train_labels[docID] = 0;\n",
    "        filepathTokens = fil.split('\\\\')\n",
    "        lastToken = filepathTokens[len(filepathTokens) - 1]\n",
    "        if lastToken.startswith(\"spmsg\"):\n",
    "            train_labels[docID] = 1;\n",
    "            count = count + 1\n",
    "        docID = docID + 1\n",
    "    return features_matrix, train_labels"
   ]
  },
  {
   "cell_type": "code",
   "execution_count": 19,
   "metadata": {},
   "outputs": [],
   "source": [
    "root_dir = \"D:\\\\Abhishek\\\\CSE\\\\bare\""
   ]
  },
  {
   "cell_type": "code",
   "execution_count": null,
   "metadata": {},
   "outputs": [
    {
     "name": "stderr",
     "output_type": "stream",
     "text": [
      "C:\\Users\\Hp\\Anaconda3\\lib\\site-packages\\sklearn\\svm\\base.py:196: FutureWarning: The default value of gamma will change from 'auto' to 'scale' in version 0.22 to account better for unscaled features. Set gamma explicitly to 'auto' or 'scale' to avoid this warning.\n",
      "  \"avoid this warning.\", FutureWarning)\n"
     ]
    },
    {
     "name": "stdout",
     "output_type": "stream",
     "text": [
      "Using gaussian kernel\n",
      "FINISHED classifying using part  1  as test part. accuracy score : \n",
      "0.8477508650519031\n",
      "FINISHED classifying using part  1  as test part. precision score : \n",
      "1.0\n",
      "FINISHED classifying using part  1  as test part. recall score : \n",
      "0.08333333333333333\n",
      "FINISHED classifying using part  1  as test part. F1 score : \n",
      "0.15384615384615385\n",
      "Using linear kernel\n",
      "FINISHED classifying using part  1  as test part. accuracy score : \n",
      "0.9550173010380623\n",
      "FINISHED classifying using part  1  as test part. precision score : \n",
      "0.9069767441860465\n",
      "FINISHED classifying using part  1  as test part. recall score : \n",
      "0.8125\n",
      "FINISHED classifying using part  1  as test part. F1 score : \n",
      "0.8571428571428572\n"
     ]
    },
    {
     "name": "stderr",
     "output_type": "stream",
     "text": [
      "C:\\Users\\Hp\\Anaconda3\\lib\\site-packages\\sklearn\\svm\\base.py:196: FutureWarning: The default value of gamma will change from 'auto' to 'scale' in version 0.22 to account better for unscaled features. Set gamma explicitly to 'auto' or 'scale' to avoid this warning.\n",
      "  \"avoid this warning.\", FutureWarning)\n"
     ]
    },
    {
     "name": "stdout",
     "output_type": "stream",
     "text": [
      "Using polynomial kernel\n",
      "FINISHED classifying using part  1  as test part. accuracy score : \n",
      "0.9550173010380623\n",
      "FINISHED classifying using part  1  as test part. precision score : \n",
      "1.0\n",
      "FINISHED classifying using part  1  as test part. recall score : \n",
      "0.8125\n",
      "FINISHED classifying using part  1  as test part. F1 score : \n",
      "0.8571428571428572\n"
     ]
    },
    {
     "name": "stderr",
     "output_type": "stream",
     "text": [
      "C:\\Users\\Hp\\Anaconda3\\lib\\site-packages\\sklearn\\svm\\base.py:196: FutureWarning: The default value of gamma will change from 'auto' to 'scale' in version 0.22 to account better for unscaled features. Set gamma explicitly to 'auto' or 'scale' to avoid this warning.\n",
      "  \"avoid this warning.\", FutureWarning)\n"
     ]
    },
    {
     "name": "stdout",
     "output_type": "stream",
     "text": [
      "Using gaussian kernel\n",
      "FINISHED classifying using part  2  as test part. accuracy score : \n",
      "0.8304498269896193\n",
      "FINISHED classifying using part  2  as test part. precision score : \n",
      "0.3333333333333333\n",
      "FINISHED classifying using part  2  as test part. recall score : \n",
      "0.020833333333333332\n",
      "FINISHED classifying using part  2  as test part. F1 score : \n",
      "0.0392156862745098\n",
      "Using linear kernel\n",
      "FINISHED classifying using part  2  as test part. accuracy score : \n",
      "0.9307958477508651\n",
      "FINISHED classifying using part  2  as test part. precision score : \n",
      "0.8043478260869565\n",
      "FINISHED classifying using part  2  as test part. recall score : \n",
      "0.7708333333333334\n",
      "FINISHED classifying using part  2  as test part. F1 score : \n",
      "0.7872340425531915\n"
     ]
    },
    {
     "name": "stderr",
     "output_type": "stream",
     "text": [
      "C:\\Users\\Hp\\Anaconda3\\lib\\site-packages\\sklearn\\svm\\base.py:196: FutureWarning: The default value of gamma will change from 'auto' to 'scale' in version 0.22 to account better for unscaled features. Set gamma explicitly to 'auto' or 'scale' to avoid this warning.\n",
      "  \"avoid this warning.\", FutureWarning)\n"
     ]
    },
    {
     "name": "stdout",
     "output_type": "stream",
     "text": [
      "Using polynomial kernel\n",
      "FINISHED classifying using part  2  as test part. accuracy score : \n",
      "0.9307958477508651\n",
      "FINISHED classifying using part  2  as test part. precision score : \n",
      "0.3333333333333333\n",
      "FINISHED classifying using part  2  as test part. recall score : \n",
      "0.7708333333333334\n",
      "FINISHED classifying using part  2  as test part. F1 score : \n",
      "0.7872340425531915\n"
     ]
    },
    {
     "name": "stderr",
     "output_type": "stream",
     "text": [
      "C:\\Users\\Hp\\Anaconda3\\lib\\site-packages\\sklearn\\svm\\base.py:196: FutureWarning: The default value of gamma will change from 'auto' to 'scale' in version 0.22 to account better for unscaled features. Set gamma explicitly to 'auto' or 'scale' to avoid this warning.\n",
      "  \"avoid this warning.\", FutureWarning)\n"
     ]
    },
    {
     "name": "stdout",
     "output_type": "stream",
     "text": [
      "Using gaussian kernel\n",
      "FINISHED classifying using part  3  as test part. accuracy score : \n",
      "0.8373702422145328\n",
      "FINISHED classifying using part  3  as test part. precision score : \n",
      "1.0\n",
      "FINISHED classifying using part  3  as test part. recall score : \n",
      "0.020833333333333332\n",
      "FINISHED classifying using part  3  as test part. F1 score : \n",
      "0.04081632653061225\n",
      "Using linear kernel\n",
      "FINISHED classifying using part  3  as test part. accuracy score : \n",
      "0.9619377162629758\n",
      "FINISHED classifying using part  3  as test part. precision score : \n",
      "0.9302325581395349\n",
      "FINISHED classifying using part  3  as test part. recall score : \n",
      "0.8333333333333334\n",
      "FINISHED classifying using part  3  as test part. F1 score : \n",
      "0.8791208791208791\n"
     ]
    },
    {
     "name": "stderr",
     "output_type": "stream",
     "text": [
      "C:\\Users\\Hp\\Anaconda3\\lib\\site-packages\\sklearn\\svm\\base.py:196: FutureWarning: The default value of gamma will change from 'auto' to 'scale' in version 0.22 to account better for unscaled features. Set gamma explicitly to 'auto' or 'scale' to avoid this warning.\n",
      "  \"avoid this warning.\", FutureWarning)\n"
     ]
    },
    {
     "name": "stdout",
     "output_type": "stream",
     "text": [
      "Using polynomial kernel\n",
      "FINISHED classifying using part  3  as test part. accuracy score : \n",
      "0.9619377162629758\n",
      "FINISHED classifying using part  3  as test part. precision score : \n",
      "1.0\n",
      "FINISHED classifying using part  3  as test part. recall score : \n",
      "0.8333333333333334\n",
      "FINISHED classifying using part  3  as test part. F1 score : \n",
      "0.8791208791208791\n"
     ]
    },
    {
     "name": "stderr",
     "output_type": "stream",
     "text": [
      "C:\\Users\\Hp\\Anaconda3\\lib\\site-packages\\sklearn\\svm\\base.py:196: FutureWarning: The default value of gamma will change from 'auto' to 'scale' in version 0.22 to account better for unscaled features. Set gamma explicitly to 'auto' or 'scale' to avoid this warning.\n",
      "  \"avoid this warning.\", FutureWarning)\n"
     ]
    },
    {
     "name": "stdout",
     "output_type": "stream",
     "text": [
      "Using gaussian kernel\n",
      "FINISHED classifying using part  4  as test part. accuracy score : \n",
      "0.8442906574394463\n",
      "FINISHED classifying using part  4  as test part. precision score : \n",
      "1.0\n",
      "FINISHED classifying using part  4  as test part. recall score : \n",
      "0.0625\n",
      "FINISHED classifying using part  4  as test part. F1 score : \n",
      "0.11764705882352941\n",
      "Using linear kernel\n",
      "FINISHED classifying using part  4  as test part. accuracy score : \n",
      "0.9826989619377162\n",
      "FINISHED classifying using part  4  as test part. precision score : \n",
      "0.9777777777777777\n",
      "FINISHED classifying using part  4  as test part. recall score : \n",
      "0.9166666666666666\n",
      "FINISHED classifying using part  4  as test part. F1 score : \n",
      "0.946236559139785\n"
     ]
    },
    {
     "name": "stderr",
     "output_type": "stream",
     "text": [
      "C:\\Users\\Hp\\Anaconda3\\lib\\site-packages\\sklearn\\svm\\base.py:196: FutureWarning: The default value of gamma will change from 'auto' to 'scale' in version 0.22 to account better for unscaled features. Set gamma explicitly to 'auto' or 'scale' to avoid this warning.\n",
      "  \"avoid this warning.\", FutureWarning)\n"
     ]
    },
    {
     "name": "stdout",
     "output_type": "stream",
     "text": [
      "Using polynomial kernel\n",
      "FINISHED classifying using part  4  as test part. accuracy score : \n",
      "0.9826989619377162\n",
      "FINISHED classifying using part  4  as test part. precision score : \n",
      "1.0\n",
      "FINISHED classifying using part  4  as test part. recall score : \n",
      "0.9166666666666666\n",
      "FINISHED classifying using part  4  as test part. F1 score : \n",
      "0.946236559139785\n"
     ]
    },
    {
     "name": "stderr",
     "output_type": "stream",
     "text": [
      "C:\\Users\\Hp\\Anaconda3\\lib\\site-packages\\sklearn\\svm\\base.py:196: FutureWarning: The default value of gamma will change from 'auto' to 'scale' in version 0.22 to account better for unscaled features. Set gamma explicitly to 'auto' or 'scale' to avoid this warning.\n",
      "  \"avoid this warning.\", FutureWarning)\n"
     ]
    },
    {
     "name": "stdout",
     "output_type": "stream",
     "text": [
      "Using gaussian kernel\n",
      "FINISHED classifying using part  5  as test part. accuracy score : \n",
      "0.8482758620689655\n",
      "FINISHED classifying using part  5  as test part. precision score : \n",
      "1.0\n",
      "FINISHED classifying using part  5  as test part. recall score : \n",
      "0.08333333333333333\n",
      "FINISHED classifying using part  5  as test part. F1 score : \n",
      "0.15384615384615385\n",
      "Using linear kernel\n",
      "FINISHED classifying using part  5  as test part. accuracy score : \n",
      "0.9758620689655172\n",
      "FINISHED classifying using part  5  as test part. precision score : \n",
      "0.9183673469387755\n",
      "FINISHED classifying using part  5  as test part. recall score : \n",
      "0.9375\n",
      "FINISHED classifying using part  5  as test part. F1 score : \n",
      "0.9278350515463918\n"
     ]
    },
    {
     "name": "stderr",
     "output_type": "stream",
     "text": [
      "C:\\Users\\Hp\\Anaconda3\\lib\\site-packages\\sklearn\\svm\\base.py:196: FutureWarning: The default value of gamma will change from 'auto' to 'scale' in version 0.22 to account better for unscaled features. Set gamma explicitly to 'auto' or 'scale' to avoid this warning.\n",
      "  \"avoid this warning.\", FutureWarning)\n"
     ]
    },
    {
     "name": "stdout",
     "output_type": "stream",
     "text": [
      "Using polynomial kernel\n",
      "FINISHED classifying using part  5  as test part. accuracy score : \n",
      "0.9758620689655172\n",
      "FINISHED classifying using part  5  as test part. precision score : \n",
      "1.0\n",
      "FINISHED classifying using part  5  as test part. recall score : \n",
      "0.9375\n",
      "FINISHED classifying using part  5  as test part. F1 score : \n",
      "0.9278350515463918\n"
     ]
    }
   ],
   "source": [
    "mean_acc=0\n",
    "mean_prec=0\n",
    "mean_rec=0\n",
    "mean_f1=0\n",
    "lean_acc=0\n",
    "lean_prec=0\n",
    "lean_rec=0\n",
    "lean_f1=0\n",
    "pean_acc=0\n",
    "pean_prec=0\n",
    "pean_rec=0\n",
    "pean_f1=0\n",
    "for i in range(1,11):\n",
    "    dictionary = make_Dictionary(root_dir,[i])\n",
    "    dim2 = len(dictionary)\n",
    "    features_matrix, labels = extract_features(root_dir,[i])\n",
    "    test_list = [1,2,3,4,5,6,7,8,9,10]\n",
    "    test_list.remove(i)\n",
    "    test_feature_matrix, test_labels = extract_features(root_dir,test_list)\n",
    "    model = svm.SVC()\n",
    "    linear_svc = svm.SVC(kernel='linear')\n",
    "    poly_svc = svm.SVC(kernel='poly')\n",
    "    model.fit(features_matrix, labels)\n",
    "    predicted_labels = model.predict(test_feature_matrix)\n",
    "    print('Using gaussian kernel')\n",
    "    print (\"FINISHED classifying using part \",i,\" as test part. accuracy score : \")\n",
    "    acc=accuracy_score(test_labels, predicted_labels)\n",
    "    print (acc)\n",
    "    print (\"FINISHED classifying using part \",i,\" as test part. precision score : \")\n",
    "    prec=precision_score(test_labels,predicted_labels)\n",
    "    print(prec)\n",
    "    mean_prec+=prec\n",
    "    mean_acc+=acc\n",
    "    print (\"FINISHED classifying using part \",i,\" as test part. recall score : \")\n",
    "    rec=recall_score(test_labels,predicted_labels)\n",
    "    print(rec)\n",
    "    mean_rec+=rec\n",
    "    print (\"FINISHED classifying using part \",i,\" as test part. F1 score : \")\n",
    "    f1=f1_score(test_labels,predicted_labels)\n",
    "    print(f1)\n",
    "    mean_f1+=f1\n",
    "    linear_svc.fit(features_matrix, labels)\n",
    "    linear_predicted_labels=linear_svc.predict(test_feature_matrix)\n",
    "    print('Using linear kernel')\n",
    "    print (\"FINISHED classifying using part \",i,\" as test part. accuracy score : \")\n",
    "    acc=accuracy_score(test_labels, linear_predicted_labels)\n",
    "    print (acc)\n",
    "    print (\"FINISHED classifying using part \",i,\" as test part. precision score : \")\n",
    "    prec=precision_score(test_labels,linear_predicted_labels)\n",
    "    print(prec)\n",
    "    lean_prec+=prec\n",
    "    lean_acc+=acc\n",
    "    print (\"FINISHED classifying using part \",i,\" as test part. recall score : \")\n",
    "    rec=recall_score(test_labels,linear_predicted_labels)\n",
    "    print(rec)\n",
    "    lean_rec+=rec\n",
    "    print (\"FINISHED classifying using part \",i,\" as test part. F1 score : \")\n",
    "    f1=f1_score(test_labels,linear_predicted_labels)\n",
    "    print(f1)\n",
    "    lean_f1+=f1\n",
    "    poly_svc.fit(features_matrix, labels)\n",
    "    poly_predicted_labels=linear_svc.predict(test_feature_matrix)\n",
    "    print('Using polynomial kernel')\n",
    "    print (\"FINISHED classifying using part \",i,\" as test part. accuracy score : \")\n",
    "    acc=accuracy_score(test_labels, poly_predicted_labels)\n",
    "    print (acc)\n",
    "    print (\"FINISHED classifying using part \",i,\" as test part. precision score : \")\n",
    "    prec=precision_score(test_labels,predicted_labels)\n",
    "    print(prec)\n",
    "    lean_prec+=prec\n",
    "    lean_acc+=acc\n",
    "    print (\"FINISHED classifying using part \",i,\" as test part. recall score : \")\n",
    "    rec=recall_score(test_labels,poly_predicted_labels)\n",
    "    print(rec)\n",
    "    lean_rec+=rec\n",
    "    print (\"FINISHED classifying using part \",i,\" as test part. F1 score : \")\n",
    "    f1=f1_score(test_labels,poly_predicted_labels)\n",
    "    print(f1)\n",
    "    lean_f1+=f1\n",
    "    "
   ]
  },
  {
   "cell_type": "code",
   "execution_count": null,
   "metadata": {},
   "outputs": [],
   "source": [
    "print('Using gaussian kernel') \n",
    "print('***********************')\n",
    "print('Mean accuracy is ',mean_acc/10)\n",
    "print('***********************')\n",
    "print('***********************')\n",
    "print('Mean precision score is ',mean_prec/10)\n",
    "print('***********************')\n",
    "print('***********************')\n",
    "print('Mean recall score is ',mean_rec/10)\n",
    "print('***********************')\n",
    "print('***********************')\n",
    "print('Mean f1score is ',mean_f1/10)\n",
    "print('***********************')\n",
    "print('Using linear kernel') \n",
    "print('***********************')\n",
    "print('Mean accuracy is ',lean_acc/10)\n",
    "print('***********************')\n",
    "print('***********************')\n",
    "print('Mean precision score is ',lean_prec/10)\n",
    "print('***********************')\n",
    "print('***********************')\n",
    "print('Mean recall score is ',lean_rec/10)\n",
    "print('***********************')\n",
    "print('***********************')\n",
    "print('Mean f1score is ',lean_f1/10)\n",
    "print('***********************')\n",
    "print('Using polynomial kernel') \n",
    "print('***********************')\n",
    "print('Mean accuracy is ',pean_acc/10)\n",
    "print('***********************')\n",
    "print('***********************')\n",
    "print('Mean precision score is ',pean_prec/10)\n",
    "print('***********************')\n",
    "print('***********************')\n",
    "print('Mean recall score is ',pean_rec/10)\n",
    "print('***********************')\n",
    "print('***********************')\n",
    "print('Mean f1score is ',pean_f1/10)\n",
    "print('***********************')"
   ]
  }
 ],
 "metadata": {
  "kernelspec": {
   "display_name": "Python 3",
   "language": "python",
   "name": "python3"
  },
  "language_info": {
   "codemirror_mode": {
    "name": "ipython",
    "version": 3
   },
   "file_extension": ".py",
   "mimetype": "text/x-python",
   "name": "python",
   "nbconvert_exporter": "python",
   "pygments_lexer": "ipython3",
   "version": "3.7.3"
  }
 },
 "nbformat": 4,
 "nbformat_minor": 2
}
